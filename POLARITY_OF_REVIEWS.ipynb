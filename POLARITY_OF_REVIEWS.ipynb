{
  "nbformat": 4,
  "nbformat_minor": 0,
  "metadata": {
    "colab": {
      "name": "POLARITY OF REVIEWS",
      "provenance": [],
      "collapsed_sections": []
    },
    "kernelspec": {
      "display_name": "Python 3",
      "name": "python3"
    },
    "language_info": {
      "name": "python"
    }
  },
  "cells": [
    {
      "cell_type": "code",
      "metadata": {
        "colab": {
          "background_save": true
        },
        "id": "Hwr9W1AsCFty"
      },
      "source": [
        "import numpy as np\n",
        "import pandas as pd\n",
        "import matplotlib.pyplot as plt\n",
        "import seaborn as sns\n",
        "import nltk\n",
        "from langdetect import detect\n",
        "plt.style.use('seaborn')\n",
        "\n",
        "import warnings\n",
        "warnings.filterwarnings(\"ignore\")\n",
        "\n",
        "pd.set_option('display.max_columns', None)\n",
        "pd.set_option('display.max_colwidth', -1)"
      ],
      "execution_count": null,
      "outputs": []
    },
    {
      "cell_type": "code",
      "metadata": {
        "colab": {
          "background_save": true
        },
        "id": "ynEHmqNDCRPf"
      },
      "source": [
        "l_data=pd.read_csv('/content/cleaned_melbourne_listings v1.1.csv')\n",
        "r_data=pd.read_csv('/content/reviews_dec18 2.csv')"
      ],
      "execution_count": null,
      "outputs": []
    },
    {
      "cell_type": "code",
      "metadata": {
        "colab": {
          "background_save": true
        },
        "id": "eOu5MjHbQOFH",
        "outputId": "33c5931f-1aed-467c-9061-abe7f40831d8"
      },
      "source": [
        "print(\"The dataset has {} rows and {} columns.\".format(*l_data.shape))\n"
      ],
      "execution_count": null,
      "outputs": [
        {
          "output_type": "stream",
          "text": [
            "The dataset has 17146 rows and 15 columns.\n"
          ],
          "name": "stdout"
        }
      ]
    },
    {
      "cell_type": "code",
      "metadata": {
        "colab": {
          "background_save": true
        },
        "id": "HglDpSuMQR-_",
        "outputId": "60747b9a-228e-47ec-c395-4b7db86f6cfb"
      },
      "source": [
        "print(\"The dataset has {} rows and {} columns.\".format(*r_data.shape))\n"
      ],
      "execution_count": null,
      "outputs": [
        {
          "output_type": "stream",
          "text": [
            "The dataset has 320856 rows and 6 columns.\n"
          ],
          "name": "stdout"
        }
      ]
    },
    {
      "cell_type": "code",
      "metadata": {
        "colab": {
          "background_save": true
        },
        "id": "rrJLUGUpRCw8"
      },
      "source": [
        "df = pd.merge(l_data,r_data,left_on='listing_id',right_on='listing_id',how='left')\n"
      ],
      "execution_count": null,
      "outputs": []
    },
    {
      "cell_type": "code",
      "metadata": {
        "colab": {
          "background_save": true
        },
        "id": "HeiE8PXKRWOX",
        "outputId": "0b1c5745-8432-4d6e-c624-14b12444138f"
      },
      "source": [
        "df.head(1)\n"
      ],
      "execution_count": null,
      "outputs": [
        {
          "output_type": "execute_result",
          "data": {
            "text/html": [
              "<div>\n",
              "<style scoped>\n",
              "    .dataframe tbody tr th:only-of-type {\n",
              "        vertical-align: middle;\n",
              "    }\n",
              "\n",
              "    .dataframe tbody tr th {\n",
              "        vertical-align: top;\n",
              "    }\n",
              "\n",
              "    .dataframe thead th {\n",
              "        text-align: right;\n",
              "    }\n",
              "</style>\n",
              "<table border=\"1\" class=\"dataframe\">\n",
              "  <thead>\n",
              "    <tr style=\"text-align: right;\">\n",
              "      <th></th>\n",
              "      <th>listing_id</th>\n",
              "      <th>name</th>\n",
              "      <th>host_id</th>\n",
              "      <th>host_name</th>\n",
              "      <th>neighbourhood</th>\n",
              "      <th>latitude</th>\n",
              "      <th>longitude</th>\n",
              "      <th>room_type</th>\n",
              "      <th>price</th>\n",
              "      <th>minimum_nights</th>\n",
              "      <th>number_of_reviews</th>\n",
              "      <th>last_review</th>\n",
              "      <th>reviews_per_month</th>\n",
              "      <th>calculated_host_listings_count</th>\n",
              "      <th>availability_365</th>\n",
              "      <th>id</th>\n",
              "      <th>date</th>\n",
              "      <th>reviewer_id</th>\n",
              "      <th>reviewer_name</th>\n",
              "      <th>comments</th>\n",
              "    </tr>\n",
              "  </thead>\n",
              "  <tbody>\n",
              "    <tr>\n",
              "      <th>0</th>\n",
              "      <td>2449576</td>\n",
              "      <td>Southbank Warehouse, Free Parking &amp; Wifi</td>\n",
              "      <td>3373049</td>\n",
              "      <td>Terry</td>\n",
              "      <td>Melbourne</td>\n",
              "      <td>-37.828398</td>\n",
              "      <td>144.959993</td>\n",
              "      <td>Entire home/apt</td>\n",
              "      <td>109</td>\n",
              "      <td>1</td>\n",
              "      <td>479</td>\n",
              "      <td>02-12-2018</td>\n",
              "      <td>10.32</td>\n",
              "      <td>1</td>\n",
              "      <td>259</td>\n",
              "      <td>26580022.0</td>\n",
              "      <td>2015-02-15</td>\n",
              "      <td>12312073.0</td>\n",
              "      <td>Nina</td>\n",
              "      <td>A fantastic experience for our first Air BnB adventure. Terry was lovely and extremely hospitable. The apartment was perfect - everything we needed and more. Very comfortable and the breakfast provisions, fresh juice and berries were a lovely touch. She also provided info on the local area, festivals, current maps and recommendations for coffee/breaky. The location was great - so close to the CBD,  Southbank and South Melbourne and with the garage provided we didn't have to worry about our car for our entire stay. This space would be perfect for either a short or long term stay. We will definitely be back and I highly recommend Terry's groovy warehouse apartment.</td>\n",
              "    </tr>\n",
              "  </tbody>\n",
              "</table>\n",
              "</div>"
            ],
            "text/plain": [
              "   listing_id                                      name  host_id host_name  \\\n",
              "0  2449576     Southbank Warehouse, Free Parking & Wifi  3373049  Terry      \n",
              "\n",
              "  neighbourhood   latitude   longitude        room_type  price  \\\n",
              "0  Melbourne    -37.828398  144.959993  Entire home/apt  109     \n",
              "\n",
              "   minimum_nights  number_of_reviews last_review  reviews_per_month  \\\n",
              "0  1               479                02-12-2018  10.32               \n",
              "\n",
              "   calculated_host_listings_count  availability_365          id        date  \\\n",
              "0  1                               259               26580022.0  2015-02-15   \n",
              "\n",
              "   reviewer_id reviewer_name  \\\n",
              "0  12312073.0   Nina           \n",
              "\n",
              "                                                                                                                                                                                                                                                                                                                                                                                                                                                                                                                                                                                                                                                                                          comments  \n",
              "0  A fantastic experience for our first Air BnB adventure. Terry was lovely and extremely hospitable. The apartment was perfect - everything we needed and more. Very comfortable and the breakfast provisions, fresh juice and berries were a lovely touch. She also provided info on the local area, festivals, current maps and recommendations for coffee/breaky. The location was great - so close to the CBD,  Southbank and South Melbourne and with the garage provided we didn't have to worry about our car for our entire stay. This space would be perfect for either a short or long term stay. We will definitely be back and I highly recommend Terry's groovy warehouse apartment.  "
            ]
          },
          "metadata": {
            "tags": []
          },
          "execution_count": 0
        }
      ]
    },
    {
      "cell_type": "code",
      "metadata": {
        "colab": {
          "background_save": true
        },
        "id": "74hceEq7Rqn4"
      },
      "source": [
        "df.drop(['id'],axis=1,inplace=True)\n"
      ],
      "execution_count": null,
      "outputs": []
    },
    {
      "cell_type": "code",
      "metadata": {
        "colab": {
          "background_save": true
        },
        "id": "GPgOHva7Ru_L",
        "outputId": "969ca148-87c9-4b20-abfd-626f35ff1cd9"
      },
      "source": [
        "df.columns\n"
      ],
      "execution_count": null,
      "outputs": [
        {
          "output_type": "execute_result",
          "data": {
            "text/plain": [
              "Index(['listing_id', 'name', 'host_id', 'host_name', 'neighbourhood',\n",
              "       'latitude', 'longitude', 'room_type', 'price', 'minimum_nights',\n",
              "       'number_of_reviews', 'last_review', 'reviews_per_month',\n",
              "       'calculated_host_listings_count', 'availability_365', 'date',\n",
              "       'reviewer_id', 'reviewer_name', 'comments'],\n",
              "      dtype='object')"
            ]
          },
          "metadata": {
            "tags": []
          },
          "execution_count": 0
        }
      ]
    },
    {
      "cell_type": "code",
      "metadata": {
        "colab": {
          "background_save": true
        },
        "id": "yva3VskPR_uO",
        "outputId": "2c83767a-afe6-4d05-aa97-3d05fd22df4f"
      },
      "source": [
        "print(\"The dataset has {} rows and {} columns.\".format(*df.shape))\n"
      ],
      "execution_count": null,
      "outputs": [
        {
          "output_type": "stream",
          "text": [
            "The dataset has 266705 rows and 19 columns.\n"
          ],
          "name": "stdout"
        }
      ]
    },
    {
      "cell_type": "code",
      "metadata": {
        "colab": {
          "background_save": true
        },
        "id": "KlZgSvjJSLv0"
      },
      "source": [
        "def missing_values_table(df):\n",
        "        # Total missing values\n",
        "        mis_val = df.isnull().sum()\n",
        "        \n",
        "        # Percentage of missing values\n",
        "        mis_val_percent = 100 * df.isnull().sum() / len(df)\n",
        "        \n",
        "        # Make a table with the results\n",
        "        mis_val_table = pd.concat([mis_val, mis_val_percent], axis=1)\n",
        "        \n",
        "        # Rename the columns\n",
        "        mis_val_table_ren_columns = mis_val_table.rename(\n",
        "        columns = {0 : 'Missing Values', 1 : '% of Total Values'})\n",
        "        \n",
        "        # Sort the table by percentage of missing descending\n",
        "        mis_val_table_ren_columns = mis_val_table_ren_columns[\n",
        "            mis_val_table_ren_columns.iloc[:,1] != 0].sort_values(\n",
        "        '% of Total Values', ascending=False).round(1)\n",
        "        \n",
        "        # Print some summary information\n",
        "        print (\"Your selected dataframe has \" + str(df.shape[1]) + \" columns.\\n\"      \n",
        "            \"There are \" + str(mis_val_table_ren_columns.shape[0]) +\n",
        "              \" columns that have missing values.\")\n",
        "        \n",
        "        # Return the dataframe with missing information\n",
        "        return mis_val_table_ren_columns"
      ],
      "execution_count": null,
      "outputs": []
    },
    {
      "cell_type": "code",
      "metadata": {
        "colab": {
          "background_save": true
        },
        "id": "cC9v3VEHSSXK",
        "outputId": "1ab99631-4c02-40a3-8090-2206830580e6"
      },
      "source": [
        "missing= missing_values_table(df)\n",
        "missing"
      ],
      "execution_count": null,
      "outputs": [
        {
          "output_type": "stream",
          "text": [
            "Your selected dataframe has 19 columns.\n",
            "There are 8 columns that have missing values.\n"
          ],
          "name": "stdout"
        },
        {
          "output_type": "execute_result",
          "data": {
            "text/html": [
              "<div>\n",
              "<style scoped>\n",
              "    .dataframe tbody tr th:only-of-type {\n",
              "        vertical-align: middle;\n",
              "    }\n",
              "\n",
              "    .dataframe tbody tr th {\n",
              "        vertical-align: top;\n",
              "    }\n",
              "\n",
              "    .dataframe thead th {\n",
              "        text-align: right;\n",
              "    }\n",
              "</style>\n",
              "<table border=\"1\" class=\"dataframe\">\n",
              "  <thead>\n",
              "    <tr style=\"text-align: right;\">\n",
              "      <th></th>\n",
              "      <th>Missing Values</th>\n",
              "      <th>% of Total Values</th>\n",
              "    </tr>\n",
              "  </thead>\n",
              "  <tbody>\n",
              "    <tr>\n",
              "      <th>comments</th>\n",
              "      <td>12040</td>\n",
              "      <td>4.5</td>\n",
              "    </tr>\n",
              "    <tr>\n",
              "      <th>reviewer_name</th>\n",
              "      <td>11754</td>\n",
              "      <td>4.4</td>\n",
              "    </tr>\n",
              "    <tr>\n",
              "      <th>date</th>\n",
              "      <td>11752</td>\n",
              "      <td>4.4</td>\n",
              "    </tr>\n",
              "    <tr>\n",
              "      <th>reviewer_id</th>\n",
              "      <td>11752</td>\n",
              "      <td>4.4</td>\n",
              "    </tr>\n",
              "    <tr>\n",
              "      <th>last_review</th>\n",
              "      <td>3818</td>\n",
              "      <td>1.4</td>\n",
              "    </tr>\n",
              "    <tr>\n",
              "      <th>reviews_per_month</th>\n",
              "      <td>3818</td>\n",
              "      <td>1.4</td>\n",
              "    </tr>\n",
              "    <tr>\n",
              "      <th>host_name</th>\n",
              "      <td>4</td>\n",
              "      <td>0.0</td>\n",
              "    </tr>\n",
              "    <tr>\n",
              "      <th>name</th>\n",
              "      <td>3</td>\n",
              "      <td>0.0</td>\n",
              "    </tr>\n",
              "  </tbody>\n",
              "</table>\n",
              "</div>"
            ],
            "text/plain": [
              "                   Missing Values  % of Total Values\n",
              "comments           12040           4.5              \n",
              "reviewer_name      11754           4.4              \n",
              "date               11752           4.4              \n",
              "reviewer_id        11752           4.4              \n",
              "last_review        3818            1.4              \n",
              "reviews_per_month  3818            1.4              \n",
              "host_name          4               0.0              \n",
              "name               3               0.0              "
            ]
          },
          "metadata": {
            "tags": []
          },
          "execution_count": 0
        }
      ]
    },
    {
      "cell_type": "code",
      "metadata": {
        "colab": {
          "background_save": true
        },
        "id": "t9W-jLPWSf4M"
      },
      "source": [
        "df.dropna(inplace=True)\n"
      ],
      "execution_count": null,
      "outputs": []
    },
    {
      "cell_type": "code",
      "metadata": {
        "colab": {
          "background_save": true
        },
        "id": "zcTRy8cOShi6",
        "outputId": "7122092f-4bc9-4aea-ff5b-5e27e27467fe"
      },
      "source": [
        "df.shape\n"
      ],
      "execution_count": null,
      "outputs": [
        {
          "output_type": "execute_result",
          "data": {
            "text/plain": [
              "(254661, 19)"
            ]
          },
          "metadata": {
            "tags": []
          },
          "execution_count": 0
        }
      ]
    },
    {
      "cell_type": "code",
      "metadata": {
        "colab": {
          "background_save": true
        },
        "id": "SxyGvTW6SrKE",
        "outputId": "dabe800d-4bac-4d29-f948-90dbf31f9107"
      },
      "source": [
        "missing= missing_values_table(df)\n",
        "missing"
      ],
      "execution_count": null,
      "outputs": [
        {
          "output_type": "stream",
          "text": [
            "Your selected dataframe has 19 columns.\n",
            "There are 0 columns that have missing values.\n"
          ],
          "name": "stdout"
        },
        {
          "output_type": "execute_result",
          "data": {
            "text/html": [
              "<div>\n",
              "<style scoped>\n",
              "    .dataframe tbody tr th:only-of-type {\n",
              "        vertical-align: middle;\n",
              "    }\n",
              "\n",
              "    .dataframe tbody tr th {\n",
              "        vertical-align: top;\n",
              "    }\n",
              "\n",
              "    .dataframe thead th {\n",
              "        text-align: right;\n",
              "    }\n",
              "</style>\n",
              "<table border=\"1\" class=\"dataframe\">\n",
              "  <thead>\n",
              "    <tr style=\"text-align: right;\">\n",
              "      <th></th>\n",
              "      <th>Missing Values</th>\n",
              "      <th>% of Total Values</th>\n",
              "    </tr>\n",
              "  </thead>\n",
              "  <tbody>\n",
              "  </tbody>\n",
              "</table>\n",
              "</div>"
            ],
            "text/plain": [
              "Empty DataFrame\n",
              "Columns: [Missing Values, % of Total Values]\n",
              "Index: []"
            ]
          },
          "metadata": {
            "tags": []
          },
          "execution_count": 0
        }
      ]
    },
    {
      "cell_type": "code",
      "metadata": {
        "colab": {
          "background_save": true
        },
        "id": "rgOnHedkCh69",
        "outputId": "3b72db3d-cc1e-474d-fa20-778280888c34"
      },
      "source": [
        "nltk.download('vader_lexicon')\n"
      ],
      "execution_count": null,
      "outputs": [
        {
          "output_type": "stream",
          "text": [
            "[nltk_data] Downloading package vader_lexicon to /root/nltk_data...\n",
            "[nltk_data]   Package vader_lexicon is already up-to-date!\n"
          ],
          "name": "stdout"
        },
        {
          "output_type": "execute_result",
          "data": {
            "text/plain": [
              "True"
            ]
          },
          "metadata": {
            "tags": []
          },
          "execution_count": 0
        }
      ]
    },
    {
      "cell_type": "code",
      "metadata": {
        "colab": {
          "background_save": true
        },
        "id": "EHwOLl-eDf2P",
        "outputId": "2554ab36-58b1-4775-a876-01f126dd97be"
      },
      "source": [
        "!pip install langdetect\n"
      ],
      "execution_count": null,
      "outputs": [
        {
          "output_type": "stream",
          "text": [
            "Requirement already satisfied: langdetect in /usr/local/lib/python3.7/dist-packages (1.0.9)\n",
            "Requirement already satisfied: six in /usr/local/lib/python3.7/dist-packages (from langdetect) (1.15.0)\n"
          ],
          "name": "stdout"
        }
      ]
    },
    {
      "cell_type": "code",
      "metadata": {
        "colab": {
          "background_save": true
        },
        "id": "2_8BxoP6ucyI",
        "outputId": "07c1a97f-a9f6-4afb-8669-dbe3d294910f"
      },
      "source": [
        "df.describe()"
      ],
      "execution_count": null,
      "outputs": [
        {
          "output_type": "execute_result",
          "data": {
            "text/html": [
              "<div>\n",
              "<style scoped>\n",
              "    .dataframe tbody tr th:only-of-type {\n",
              "        vertical-align: middle;\n",
              "    }\n",
              "\n",
              "    .dataframe tbody tr th {\n",
              "        vertical-align: top;\n",
              "    }\n",
              "\n",
              "    .dataframe thead th {\n",
              "        text-align: right;\n",
              "    }\n",
              "</style>\n",
              "<table border=\"1\" class=\"dataframe\">\n",
              "  <thead>\n",
              "    <tr style=\"text-align: right;\">\n",
              "      <th></th>\n",
              "      <th>listing_id</th>\n",
              "      <th>host_id</th>\n",
              "      <th>latitude</th>\n",
              "      <th>longitude</th>\n",
              "      <th>price</th>\n",
              "      <th>minimum_nights</th>\n",
              "      <th>number_of_reviews</th>\n",
              "      <th>reviews_per_month</th>\n",
              "      <th>calculated_host_listings_count</th>\n",
              "      <th>availability_365</th>\n",
              "      <th>reviewer_id</th>\n",
              "    </tr>\n",
              "  </thead>\n",
              "  <tbody>\n",
              "    <tr>\n",
              "      <th>count</th>\n",
              "      <td>2.546610e+05</td>\n",
              "      <td>2.546610e+05</td>\n",
              "      <td>254661.000000</td>\n",
              "      <td>254661.000000</td>\n",
              "      <td>254661.000000</td>\n",
              "      <td>254661.000000</td>\n",
              "      <td>254661.000000</td>\n",
              "      <td>254661.000000</td>\n",
              "      <td>254661.000000</td>\n",
              "      <td>254661.000000</td>\n",
              "      <td>2.546610e+05</td>\n",
              "    </tr>\n",
              "    <tr>\n",
              "      <th>mean</th>\n",
              "      <td>8.897536e+06</td>\n",
              "      <td>2.758415e+07</td>\n",
              "      <td>-37.817513</td>\n",
              "      <td>145.020247</td>\n",
              "      <td>139.012562</td>\n",
              "      <td>2.240520</td>\n",
              "      <td>122.464362</td>\n",
              "      <td>3.231211</td>\n",
              "      <td>9.627073</td>\n",
              "      <td>184.170081</td>\n",
              "      <td>6.081852e+07</td>\n",
              "    </tr>\n",
              "    <tr>\n",
              "      <th>std</th>\n",
              "      <td>5.030896e+06</td>\n",
              "      <td>2.656174e+07</td>\n",
              "      <td>0.059528</td>\n",
              "      <td>0.155623</td>\n",
              "      <td>97.380970</td>\n",
              "      <td>7.692637</td>\n",
              "      <td>85.915040</td>\n",
              "      <td>2.071126</td>\n",
              "      <td>20.957937</td>\n",
              "      <td>126.445673</td>\n",
              "      <td>5.235913e+07</td>\n",
              "    </tr>\n",
              "    <tr>\n",
              "      <th>min</th>\n",
              "      <td>4.341400e+04</td>\n",
              "      <td>9.082000e+03</td>\n",
              "      <td>-38.192113</td>\n",
              "      <td>144.544393</td>\n",
              "      <td>14.000000</td>\n",
              "      <td>1.000000</td>\n",
              "      <td>1.000000</td>\n",
              "      <td>0.020000</td>\n",
              "      <td>1.000000</td>\n",
              "      <td>0.000000</td>\n",
              "      <td>2.620000e+02</td>\n",
              "    </tr>\n",
              "    <tr>\n",
              "      <th>25%</th>\n",
              "      <td>4.710172e+06</td>\n",
              "      <td>6.679534e+06</td>\n",
              "      <td>-37.825528</td>\n",
              "      <td>144.956258</td>\n",
              "      <td>90.000000</td>\n",
              "      <td>1.000000</td>\n",
              "      <td>57.000000</td>\n",
              "      <td>1.560000</td>\n",
              "      <td>1.000000</td>\n",
              "      <td>63.000000</td>\n",
              "      <td>1.901912e+07</td>\n",
              "    </tr>\n",
              "    <tr>\n",
              "      <th>50%</th>\n",
              "      <td>9.034313e+06</td>\n",
              "      <td>2.024099e+07</td>\n",
              "      <td>-37.815414</td>\n",
              "      <td>144.968727</td>\n",
              "      <td>120.000000</td>\n",
              "      <td>2.000000</td>\n",
              "      <td>107.000000</td>\n",
              "      <td>2.980000</td>\n",
              "      <td>2.000000</td>\n",
              "      <td>169.000000</td>\n",
              "      <td>4.541834e+07</td>\n",
              "    </tr>\n",
              "    <tr>\n",
              "      <th>75%</th>\n",
              "      <td>1.359144e+07</td>\n",
              "      <td>4.167872e+07</td>\n",
              "      <td>-37.805234</td>\n",
              "      <td>144.997469</td>\n",
              "      <td>165.000000</td>\n",
              "      <td>2.000000</td>\n",
              "      <td>168.000000</td>\n",
              "      <td>4.560000</td>\n",
              "      <td>5.000000</td>\n",
              "      <td>312.000000</td>\n",
              "      <td>9.456972e+07</td>\n",
              "    </tr>\n",
              "    <tr>\n",
              "      <th>max</th>\n",
              "      <td>1.682019e+07</td>\n",
              "      <td>1.117212e+08</td>\n",
              "      <td>-37.536264</td>\n",
              "      <td>145.831408</td>\n",
              "      <td>8000.000000</td>\n",
              "      <td>900.000000</td>\n",
              "      <td>538.000000</td>\n",
              "      <td>11.510000</td>\n",
              "      <td>98.000000</td>\n",
              "      <td>365.000000</td>\n",
              "      <td>2.287429e+08</td>\n",
              "    </tr>\n",
              "  </tbody>\n",
              "</table>\n",
              "</div>"
            ],
            "text/plain": [
              "         listing_id       host_id       latitude      longitude  \\\n",
              "count  2.546610e+05  2.546610e+05  254661.000000  254661.000000   \n",
              "mean   8.897536e+06  2.758415e+07 -37.817513      145.020247      \n",
              "std    5.030896e+06  2.656174e+07  0.059528       0.155623        \n",
              "min    4.341400e+04  9.082000e+03 -38.192113      144.544393      \n",
              "25%    4.710172e+06  6.679534e+06 -37.825528      144.956258      \n",
              "50%    9.034313e+06  2.024099e+07 -37.815414      144.968727      \n",
              "75%    1.359144e+07  4.167872e+07 -37.805234      144.997469      \n",
              "max    1.682019e+07  1.117212e+08 -37.536264      145.831408      \n",
              "\n",
              "               price  minimum_nights  number_of_reviews  reviews_per_month  \\\n",
              "count  254661.000000  254661.000000   254661.000000      254661.000000       \n",
              "mean   139.012562     2.240520        122.464362         3.231211            \n",
              "std    97.380970      7.692637        85.915040          2.071126            \n",
              "min    14.000000      1.000000        1.000000           0.020000            \n",
              "25%    90.000000      1.000000        57.000000          1.560000            \n",
              "50%    120.000000     2.000000        107.000000         2.980000            \n",
              "75%    165.000000     2.000000        168.000000         4.560000            \n",
              "max    8000.000000    900.000000      538.000000         11.510000           \n",
              "\n",
              "       calculated_host_listings_count  availability_365   reviewer_id  \n",
              "count  254661.000000                   254661.000000     2.546610e+05  \n",
              "mean   9.627073                        184.170081        6.081852e+07  \n",
              "std    20.957937                       126.445673        5.235913e+07  \n",
              "min    1.000000                        0.000000          2.620000e+02  \n",
              "25%    1.000000                        63.000000         1.901912e+07  \n",
              "50%    2.000000                        169.000000        4.541834e+07  \n",
              "75%    5.000000                        312.000000        9.456972e+07  \n",
              "max    98.000000                       365.000000        2.287429e+08  "
            ]
          },
          "metadata": {
            "tags": []
          },
          "execution_count": 0
        }
      ]
    },
    {
      "cell_type": "code",
      "metadata": {
        "colab": {
          "background_save": true
        },
        "id": "G_j5bGCvT36n"
      },
      "source": [
        "df.to_csv('final_dataset.csv')"
      ],
      "execution_count": null,
      "outputs": []
    },
    {
      "cell_type": "code",
      "metadata": {
        "colab": {
          "background_save": true
        },
        "id": "QqF7XagauwYT",
        "outputId": "bf26aeb1-54d6-4c90-bba9-54d13aa34bee"
      },
      "source": [
        "df.describe()"
      ],
      "execution_count": null,
      "outputs": [
        {
          "output_type": "execute_result",
          "data": {
            "text/html": [
              "<div>\n",
              "<style scoped>\n",
              "    .dataframe tbody tr th:only-of-type {\n",
              "        vertical-align: middle;\n",
              "    }\n",
              "\n",
              "    .dataframe tbody tr th {\n",
              "        vertical-align: top;\n",
              "    }\n",
              "\n",
              "    .dataframe thead th {\n",
              "        text-align: right;\n",
              "    }\n",
              "</style>\n",
              "<table border=\"1\" class=\"dataframe\">\n",
              "  <thead>\n",
              "    <tr style=\"text-align: right;\">\n",
              "      <th></th>\n",
              "      <th>listing_id</th>\n",
              "      <th>host_id</th>\n",
              "      <th>latitude</th>\n",
              "      <th>longitude</th>\n",
              "      <th>price</th>\n",
              "      <th>minimum_nights</th>\n",
              "      <th>number_of_reviews</th>\n",
              "      <th>reviews_per_month</th>\n",
              "      <th>calculated_host_listings_count</th>\n",
              "      <th>availability_365</th>\n",
              "      <th>reviewer_id</th>\n",
              "    </tr>\n",
              "  </thead>\n",
              "  <tbody>\n",
              "    <tr>\n",
              "      <th>count</th>\n",
              "      <td>2.546610e+05</td>\n",
              "      <td>2.546610e+05</td>\n",
              "      <td>254661.000000</td>\n",
              "      <td>254661.000000</td>\n",
              "      <td>254661.000000</td>\n",
              "      <td>254661.000000</td>\n",
              "      <td>254661.000000</td>\n",
              "      <td>254661.000000</td>\n",
              "      <td>254661.000000</td>\n",
              "      <td>254661.000000</td>\n",
              "      <td>2.546610e+05</td>\n",
              "    </tr>\n",
              "    <tr>\n",
              "      <th>mean</th>\n",
              "      <td>8.897536e+06</td>\n",
              "      <td>2.758415e+07</td>\n",
              "      <td>-37.817513</td>\n",
              "      <td>145.020247</td>\n",
              "      <td>139.012562</td>\n",
              "      <td>2.240520</td>\n",
              "      <td>122.464362</td>\n",
              "      <td>3.231211</td>\n",
              "      <td>9.627073</td>\n",
              "      <td>184.170081</td>\n",
              "      <td>6.081852e+07</td>\n",
              "    </tr>\n",
              "    <tr>\n",
              "      <th>std</th>\n",
              "      <td>5.030896e+06</td>\n",
              "      <td>2.656174e+07</td>\n",
              "      <td>0.059528</td>\n",
              "      <td>0.155623</td>\n",
              "      <td>97.380970</td>\n",
              "      <td>7.692637</td>\n",
              "      <td>85.915040</td>\n",
              "      <td>2.071126</td>\n",
              "      <td>20.957937</td>\n",
              "      <td>126.445673</td>\n",
              "      <td>5.235913e+07</td>\n",
              "    </tr>\n",
              "    <tr>\n",
              "      <th>min</th>\n",
              "      <td>4.341400e+04</td>\n",
              "      <td>9.082000e+03</td>\n",
              "      <td>-38.192113</td>\n",
              "      <td>144.544393</td>\n",
              "      <td>14.000000</td>\n",
              "      <td>1.000000</td>\n",
              "      <td>1.000000</td>\n",
              "      <td>0.020000</td>\n",
              "      <td>1.000000</td>\n",
              "      <td>0.000000</td>\n",
              "      <td>2.620000e+02</td>\n",
              "    </tr>\n",
              "    <tr>\n",
              "      <th>25%</th>\n",
              "      <td>4.710172e+06</td>\n",
              "      <td>6.679534e+06</td>\n",
              "      <td>-37.825528</td>\n",
              "      <td>144.956258</td>\n",
              "      <td>90.000000</td>\n",
              "      <td>1.000000</td>\n",
              "      <td>57.000000</td>\n",
              "      <td>1.560000</td>\n",
              "      <td>1.000000</td>\n",
              "      <td>63.000000</td>\n",
              "      <td>1.901912e+07</td>\n",
              "    </tr>\n",
              "    <tr>\n",
              "      <th>50%</th>\n",
              "      <td>9.034313e+06</td>\n",
              "      <td>2.024099e+07</td>\n",
              "      <td>-37.815414</td>\n",
              "      <td>144.968727</td>\n",
              "      <td>120.000000</td>\n",
              "      <td>2.000000</td>\n",
              "      <td>107.000000</td>\n",
              "      <td>2.980000</td>\n",
              "      <td>2.000000</td>\n",
              "      <td>169.000000</td>\n",
              "      <td>4.541834e+07</td>\n",
              "    </tr>\n",
              "    <tr>\n",
              "      <th>75%</th>\n",
              "      <td>1.359144e+07</td>\n",
              "      <td>4.167872e+07</td>\n",
              "      <td>-37.805234</td>\n",
              "      <td>144.997469</td>\n",
              "      <td>165.000000</td>\n",
              "      <td>2.000000</td>\n",
              "      <td>168.000000</td>\n",
              "      <td>4.560000</td>\n",
              "      <td>5.000000</td>\n",
              "      <td>312.000000</td>\n",
              "      <td>9.456972e+07</td>\n",
              "    </tr>\n",
              "    <tr>\n",
              "      <th>max</th>\n",
              "      <td>1.682019e+07</td>\n",
              "      <td>1.117212e+08</td>\n",
              "      <td>-37.536264</td>\n",
              "      <td>145.831408</td>\n",
              "      <td>8000.000000</td>\n",
              "      <td>900.000000</td>\n",
              "      <td>538.000000</td>\n",
              "      <td>11.510000</td>\n",
              "      <td>98.000000</td>\n",
              "      <td>365.000000</td>\n",
              "      <td>2.287429e+08</td>\n",
              "    </tr>\n",
              "  </tbody>\n",
              "</table>\n",
              "</div>"
            ],
            "text/plain": [
              "         listing_id       host_id       latitude      longitude  \\\n",
              "count  2.546610e+05  2.546610e+05  254661.000000  254661.000000   \n",
              "mean   8.897536e+06  2.758415e+07 -37.817513      145.020247      \n",
              "std    5.030896e+06  2.656174e+07  0.059528       0.155623        \n",
              "min    4.341400e+04  9.082000e+03 -38.192113      144.544393      \n",
              "25%    4.710172e+06  6.679534e+06 -37.825528      144.956258      \n",
              "50%    9.034313e+06  2.024099e+07 -37.815414      144.968727      \n",
              "75%    1.359144e+07  4.167872e+07 -37.805234      144.997469      \n",
              "max    1.682019e+07  1.117212e+08 -37.536264      145.831408      \n",
              "\n",
              "               price  minimum_nights  number_of_reviews  reviews_per_month  \\\n",
              "count  254661.000000  254661.000000   254661.000000      254661.000000       \n",
              "mean   139.012562     2.240520        122.464362         3.231211            \n",
              "std    97.380970      7.692637        85.915040          2.071126            \n",
              "min    14.000000      1.000000        1.000000           0.020000            \n",
              "25%    90.000000      1.000000        57.000000          1.560000            \n",
              "50%    120.000000     2.000000        107.000000         2.980000            \n",
              "75%    165.000000     2.000000        168.000000         4.560000            \n",
              "max    8000.000000    900.000000      538.000000         11.510000           \n",
              "\n",
              "       calculated_host_listings_count  availability_365   reviewer_id  \n",
              "count  254661.000000                   254661.000000     2.546610e+05  \n",
              "mean   9.627073                        184.170081        6.081852e+07  \n",
              "std    20.957937                       126.445673        5.235913e+07  \n",
              "min    1.000000                        0.000000          2.620000e+02  \n",
              "25%    1.000000                        63.000000         1.901912e+07  \n",
              "50%    2.000000                        169.000000        4.541834e+07  \n",
              "75%    5.000000                        312.000000        9.456972e+07  \n",
              "max    98.000000                       365.000000        2.287429e+08  "
            ]
          },
          "metadata": {
            "tags": []
          },
          "execution_count": 0
        }
      ]
    },
    {
      "cell_type": "code",
      "metadata": {
        "colab": {
          "background_save": true
        },
        "id": "xDe5Ixj5DlRG",
        "outputId": "a4ef8fda-c4da-47f9-aaf4-0c8659cda369"
      },
      "source": [
        "from nltk.sentiment.vader import SentimentIntensityAnalyzer\n",
        "sid = SentimentIntensityAnalyzer()\n",
        "\n",
        "df['polarity_value']=\"Default\"\n",
        "df['neg']=0.0\n",
        "df['pos']=0.0\n",
        "df['neu']=0.0\n",
        "df['compound']=0.0\n",
        "for index,row in df.iterrows():\n",
        "    ss = sid.polarity_scores(row['comments'])\n",
        "    df.at[index,'polarity_value'] = ss\n",
        "    df.at[index,'neg'] = ss['neg']\n",
        "    df.at[index,'pos'] = ss['pos']\n",
        "    df.at[index,'neu']= ss['neu']\n",
        "    df.at[index,'compound'] = ss['compound']\n",
        "df.head()"
      ],
      "execution_count": null,
      "outputs": [
        {
          "output_type": "execute_result",
          "data": {
            "text/html": [
              "<div>\n",
              "<style scoped>\n",
              "    .dataframe tbody tr th:only-of-type {\n",
              "        vertical-align: middle;\n",
              "    }\n",
              "\n",
              "    .dataframe tbody tr th {\n",
              "        vertical-align: top;\n",
              "    }\n",
              "\n",
              "    .dataframe thead th {\n",
              "        text-align: right;\n",
              "    }\n",
              "</style>\n",
              "<table border=\"1\" class=\"dataframe\">\n",
              "  <thead>\n",
              "    <tr style=\"text-align: right;\">\n",
              "      <th></th>\n",
              "      <th>listing_id</th>\n",
              "      <th>name</th>\n",
              "      <th>host_id</th>\n",
              "      <th>host_name</th>\n",
              "      <th>neighbourhood</th>\n",
              "      <th>latitude</th>\n",
              "      <th>longitude</th>\n",
              "      <th>room_type</th>\n",
              "      <th>price</th>\n",
              "      <th>minimum_nights</th>\n",
              "      <th>number_of_reviews</th>\n",
              "      <th>last_review</th>\n",
              "      <th>reviews_per_month</th>\n",
              "      <th>calculated_host_listings_count</th>\n",
              "      <th>availability_365</th>\n",
              "      <th>date</th>\n",
              "      <th>reviewer_id</th>\n",
              "      <th>reviewer_name</th>\n",
              "      <th>comments</th>\n",
              "      <th>polarity_value</th>\n",
              "      <th>neg</th>\n",
              "      <th>pos</th>\n",
              "      <th>neu</th>\n",
              "      <th>compound</th>\n",
              "    </tr>\n",
              "  </thead>\n",
              "  <tbody>\n",
              "    <tr>\n",
              "      <th>0</th>\n",
              "      <td>2449576</td>\n",
              "      <td>Southbank Warehouse, Free Parking &amp; Wifi</td>\n",
              "      <td>3373049</td>\n",
              "      <td>Terry</td>\n",
              "      <td>Melbourne</td>\n",
              "      <td>-37.828398</td>\n",
              "      <td>144.959993</td>\n",
              "      <td>Entire home/apt</td>\n",
              "      <td>109</td>\n",
              "      <td>1</td>\n",
              "      <td>479</td>\n",
              "      <td>02-12-2018</td>\n",
              "      <td>10.32</td>\n",
              "      <td>1</td>\n",
              "      <td>259</td>\n",
              "      <td>2015-02-15</td>\n",
              "      <td>12312073.0</td>\n",
              "      <td>Nina</td>\n",
              "      <td>A fantastic experience for our first Air BnB adventure. Terry was lovely and extremely hospitable. The apartment was perfect - everything we needed and more. Very comfortable and the breakfast provisions, fresh juice and berries were a lovely touch. She also provided info on the local area, festivals, current maps and recommendations for coffee/breaky. The location was great - so close to the CBD,  Southbank and South Melbourne and with the garage provided we didn't have to worry about our car for our entire stay. This space would be perfect for either a short or long term stay. We will definitely be back and I highly recommend Terry's groovy warehouse apartment.</td>\n",
              "      <td>{'neg': 0.0, 'neu': 0.689, 'pos': 0.311, 'compound': 0.9909}</td>\n",
              "      <td>0.000</td>\n",
              "      <td>0.311</td>\n",
              "      <td>0.689</td>\n",
              "      <td>0.9909</td>\n",
              "    </tr>\n",
              "    <tr>\n",
              "      <th>1</th>\n",
              "      <td>2449576</td>\n",
              "      <td>Southbank Warehouse, Free Parking &amp; Wifi</td>\n",
              "      <td>3373049</td>\n",
              "      <td>Terry</td>\n",
              "      <td>Melbourne</td>\n",
              "      <td>-37.828398</td>\n",
              "      <td>144.959993</td>\n",
              "      <td>Entire home/apt</td>\n",
              "      <td>109</td>\n",
              "      <td>1</td>\n",
              "      <td>479</td>\n",
              "      <td>02-12-2018</td>\n",
              "      <td>10.32</td>\n",
              "      <td>1</td>\n",
              "      <td>259</td>\n",
              "      <td>2015-02-22</td>\n",
              "      <td>27229595.0</td>\n",
              "      <td>Dirk</td>\n",
              "      <td>Terry war eine außerordentlich nette und unkomplizierte Gastgeberin. Wir wurden von der Southern Cross Station abgeholt und es wurde uns noch die nähere Umgebung gezeigt. Das Apartment liegt sehr günstig für die Erkundung der City und der South Bank. Es ist geräumig. Nachteil: Das einzige Fenster lässt sich nicht öffnen. Eine Kochmöglichkeit fehlt. Ansonsten ist die Küchenzeile git ausgestattet. Die Klimaanlage ist lediglich ein Innenkühlgerät. Ein großer Supermarkt ist zu Fuß zu erreichen. Insgesamt ist das Preis/Leistungsverhältnis super.</td>\n",
              "      <td>{'neg': 0.204, 'neu': 0.755, 'pos': 0.041, 'compound': -0.9485}</td>\n",
              "      <td>0.204</td>\n",
              "      <td>0.041</td>\n",
              "      <td>0.755</td>\n",
              "      <td>-0.9485</td>\n",
              "    </tr>\n",
              "    <tr>\n",
              "      <th>2</th>\n",
              "      <td>2449576</td>\n",
              "      <td>Southbank Warehouse, Free Parking &amp; Wifi</td>\n",
              "      <td>3373049</td>\n",
              "      <td>Terry</td>\n",
              "      <td>Melbourne</td>\n",
              "      <td>-37.828398</td>\n",
              "      <td>144.959993</td>\n",
              "      <td>Entire home/apt</td>\n",
              "      <td>109</td>\n",
              "      <td>1</td>\n",
              "      <td>479</td>\n",
              "      <td>02-12-2018</td>\n",
              "      <td>10.32</td>\n",
              "      <td>1</td>\n",
              "      <td>259</td>\n",
              "      <td>2015-02-26</td>\n",
              "      <td>27769507.0</td>\n",
              "      <td>Liwen</td>\n",
              "      <td>This warehouse apartment is tastefully furnished with bright colours and quirky items from around the world, exactly what Melbourne is all about - which is full of character and never dull. The location is not too far from the city centre, 20 mins walk or just 5 mins by tram. And it is quiet and safe. We felt very comfortable staying here. Terry and David were also very nice people and they have clearly made the effort to ensure we were comfortable by providing a wide selection soap, coffee, tea and cereal, as well as guidebooks and maps of Melbourne. Definitely a great place to stay!</td>\n",
              "      <td>{'neg': 0.0, 'neu': 0.735, 'pos': 0.265, 'compound': 0.9846}</td>\n",
              "      <td>0.000</td>\n",
              "      <td>0.265</td>\n",
              "      <td>0.735</td>\n",
              "      <td>0.9846</td>\n",
              "    </tr>\n",
              "    <tr>\n",
              "      <th>3</th>\n",
              "      <td>2449576</td>\n",
              "      <td>Southbank Warehouse, Free Parking &amp; Wifi</td>\n",
              "      <td>3373049</td>\n",
              "      <td>Terry</td>\n",
              "      <td>Melbourne</td>\n",
              "      <td>-37.828398</td>\n",
              "      <td>144.959993</td>\n",
              "      <td>Entire home/apt</td>\n",
              "      <td>109</td>\n",
              "      <td>1</td>\n",
              "      <td>479</td>\n",
              "      <td>02-12-2018</td>\n",
              "      <td>10.32</td>\n",
              "      <td>1</td>\n",
              "      <td>259</td>\n",
              "      <td>2015-02-28</td>\n",
              "      <td>28072698.0</td>\n",
              "      <td>John</td>\n",
              "      <td>This was my first Air BnB experience and wow what a great place to stay. Terry makes you feel at home right from the moment you meet her. The room is massive with an attached bathroom. Terry provides breakfast cereals/tea/coffee and juices along with wifi. \\r\\nI really could not fault this place and to top it all off it is only 5 minutes walk to Crown Casino/the tram/the river. It is also only 5 min walk to South Melbourne markets. I will happily recommend this place to my friends and look forward to visiting again. Great host/great room/great location all make for a great stay in Melbourne.</td>\n",
              "      <td>{'neg': 0.0, 'neu': 0.756, 'pos': 0.244, 'compound': 0.9828}</td>\n",
              "      <td>0.000</td>\n",
              "      <td>0.244</td>\n",
              "      <td>0.756</td>\n",
              "      <td>0.9828</td>\n",
              "    </tr>\n",
              "    <tr>\n",
              "      <th>4</th>\n",
              "      <td>2449576</td>\n",
              "      <td>Southbank Warehouse, Free Parking &amp; Wifi</td>\n",
              "      <td>3373049</td>\n",
              "      <td>Terry</td>\n",
              "      <td>Melbourne</td>\n",
              "      <td>-37.828398</td>\n",
              "      <td>144.959993</td>\n",
              "      <td>Entire home/apt</td>\n",
              "      <td>109</td>\n",
              "      <td>1</td>\n",
              "      <td>479</td>\n",
              "      <td>02-12-2018</td>\n",
              "      <td>10.32</td>\n",
              "      <td>1</td>\n",
              "      <td>259</td>\n",
              "      <td>2015-03-01</td>\n",
              "      <td>27034089.0</td>\n",
              "      <td>David</td>\n",
              "      <td>Terry is very organised and takes pride in her apartment. Great location and good value.</td>\n",
              "      <td>{'neg': 0.0, 'neu': 0.482, 'pos': 0.518, 'compound': 0.8957}</td>\n",
              "      <td>0.000</td>\n",
              "      <td>0.518</td>\n",
              "      <td>0.482</td>\n",
              "      <td>0.8957</td>\n",
              "    </tr>\n",
              "  </tbody>\n",
              "</table>\n",
              "</div>"
            ],
            "text/plain": [
              "   listing_id                                      name  host_id host_name  \\\n",
              "0  2449576     Southbank Warehouse, Free Parking & Wifi  3373049  Terry      \n",
              "1  2449576     Southbank Warehouse, Free Parking & Wifi  3373049  Terry      \n",
              "2  2449576     Southbank Warehouse, Free Parking & Wifi  3373049  Terry      \n",
              "3  2449576     Southbank Warehouse, Free Parking & Wifi  3373049  Terry      \n",
              "4  2449576     Southbank Warehouse, Free Parking & Wifi  3373049  Terry      \n",
              "\n",
              "  neighbourhood   latitude   longitude        room_type  price  \\\n",
              "0  Melbourne    -37.828398  144.959993  Entire home/apt  109     \n",
              "1  Melbourne    -37.828398  144.959993  Entire home/apt  109     \n",
              "2  Melbourne    -37.828398  144.959993  Entire home/apt  109     \n",
              "3  Melbourne    -37.828398  144.959993  Entire home/apt  109     \n",
              "4  Melbourne    -37.828398  144.959993  Entire home/apt  109     \n",
              "\n",
              "   minimum_nights  number_of_reviews last_review  reviews_per_month  \\\n",
              "0  1               479                02-12-2018  10.32               \n",
              "1  1               479                02-12-2018  10.32               \n",
              "2  1               479                02-12-2018  10.32               \n",
              "3  1               479                02-12-2018  10.32               \n",
              "4  1               479                02-12-2018  10.32               \n",
              "\n",
              "   calculated_host_listings_count  availability_365        date  reviewer_id  \\\n",
              "0  1                               259               2015-02-15  12312073.0    \n",
              "1  1                               259               2015-02-22  27229595.0    \n",
              "2  1                               259               2015-02-26  27769507.0    \n",
              "3  1                               259               2015-02-28  28072698.0    \n",
              "4  1                               259               2015-03-01  27034089.0    \n",
              "\n",
              "  reviewer_name  \\\n",
              "0  Nina           \n",
              "1  Dirk           \n",
              "2  Liwen          \n",
              "3  John           \n",
              "4  David          \n",
              "\n",
              "                                                                                                                                                                                                                                                                                                                                                                                                                                                                                                                                                                                                                                                                                          comments  \\\n",
              "0  A fantastic experience for our first Air BnB adventure. Terry was lovely and extremely hospitable. The apartment was perfect - everything we needed and more. Very comfortable and the breakfast provisions, fresh juice and berries were a lovely touch. She also provided info on the local area, festivals, current maps and recommendations for coffee/breaky. The location was great - so close to the CBD,  Southbank and South Melbourne and with the garage provided we didn't have to worry about our car for our entire stay. This space would be perfect for either a short or long term stay. We will definitely be back and I highly recommend Terry's groovy warehouse apartment.   \n",
              "1  Terry war eine außerordentlich nette und unkomplizierte Gastgeberin. Wir wurden von der Southern Cross Station abgeholt und es wurde uns noch die nähere Umgebung gezeigt. Das Apartment liegt sehr günstig für die Erkundung der City und der South Bank. Es ist geräumig. Nachteil: Das einzige Fenster lässt sich nicht öffnen. Eine Kochmöglichkeit fehlt. Ansonsten ist die Küchenzeile git ausgestattet. Die Klimaanlage ist lediglich ein Innenkühlgerät. Ein großer Supermarkt ist zu Fuß zu erreichen. Insgesamt ist das Preis/Leistungsverhältnis super.                                                                                                                                \n",
              "2  This warehouse apartment is tastefully furnished with bright colours and quirky items from around the world, exactly what Melbourne is all about - which is full of character and never dull. The location is not too far from the city centre, 20 mins walk or just 5 mins by tram. And it is quiet and safe. We felt very comfortable staying here. Terry and David were also very nice people and they have clearly made the effort to ensure we were comfortable by providing a wide selection soap, coffee, tea and cereal, as well as guidebooks and maps of Melbourne. Definitely a great place to stay!                                                                                   \n",
              "3  This was my first Air BnB experience and wow what a great place to stay. Terry makes you feel at home right from the moment you meet her. The room is massive with an attached bathroom. Terry provides breakfast cereals/tea/coffee and juices along with wifi. \\r\\nI really could not fault this place and to top it all off it is only 5 minutes walk to Crown Casino/the tram/the river. It is also only 5 min walk to South Melbourne markets. I will happily recommend this place to my friends and look forward to visiting again. Great host/great room/great location all make for a great stay in Melbourne.                                                                            \n",
              "4  Terry is very organised and takes pride in her apartment. Great location and good value.                                                                                                                                                                                                                                                                                                                                                                                                                                                                                                                                                                                                          \n",
              "\n",
              "                                                    polarity_value    neg  \\\n",
              "0  {'neg': 0.0, 'neu': 0.689, 'pos': 0.311, 'compound': 0.9909}     0.000   \n",
              "1  {'neg': 0.204, 'neu': 0.755, 'pos': 0.041, 'compound': -0.9485}  0.204   \n",
              "2  {'neg': 0.0, 'neu': 0.735, 'pos': 0.265, 'compound': 0.9846}     0.000   \n",
              "3  {'neg': 0.0, 'neu': 0.756, 'pos': 0.244, 'compound': 0.9828}     0.000   \n",
              "4  {'neg': 0.0, 'neu': 0.482, 'pos': 0.518, 'compound': 0.8957}     0.000   \n",
              "\n",
              "     pos    neu  compound  \n",
              "0  0.311  0.689  0.9909    \n",
              "1  0.041  0.755 -0.9485    \n",
              "2  0.265  0.735  0.9846    \n",
              "3  0.244  0.756  0.9828    \n",
              "4  0.518  0.482  0.8957    "
            ]
          },
          "metadata": {
            "tags": []
          },
          "execution_count": 0
        }
      ]
    },
    {
      "cell_type": "code",
      "metadata": {
        "colab": {
          "background_save": true
        },
        "id": "rFPndP6SXicq"
      },
      "source": [
        "df.to_csv('final_df.csv')"
      ],
      "execution_count": null,
      "outputs": []
    }
  ]
}